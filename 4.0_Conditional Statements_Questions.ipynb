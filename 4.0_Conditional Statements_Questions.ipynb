{
 "cells": [
  {
   "cell_type": "code",
   "execution_count": 1,
   "metadata": {},
   "outputs": [
    {
     "name": "stdout",
     "output_type": "stream",
     "text": [
      "odd number\n"
     ]
    }
   ],
   "source": [
    "# Write a program to find given number is odd or even \n",
    "x = 45\n",
    "#Your Answer\n",
    "x=int(input(\"enter the number:\"))\n",
    "if (x%2)==0:\n",
    "    print(\"even number\")\n",
    "else:\n",
    "    print(\"odd number\")\n",
    "\n",
    "\n",
    "\n",
    "\n",
    "\n",
    "\n",
    "\n"
   ]
  },
  {
   "cell_type": "code",
   "execution_count": 5,
   "metadata": {},
   "outputs": [
    {
     "name": "stdout",
     "output_type": "stream",
     "text": [
      "2020 is leap year\n"
     ]
    }
   ],
   "source": [
    "#Write a program to find the given year is leap year or not\n",
    "year = 2020\n",
    "#Your Answer\n",
    " \n",
    "year=2020\n",
    "if (year%400)==0 and (year%100)==0:\n",
    "    print(year,\"is a leap year\")\n",
    "elif (year%4)==0 and (year%100)!=0:\n",
    "    print(year,\"is leap year\")\n",
    "else:\n",
    "    print(year,\"is not leap year\")\n",
    "\n",
    "\n",
    "\n",
    "\n",
    "\n"
   ]
  },
  {
   "cell_type": "code",
   "execution_count": 6,
   "metadata": {},
   "outputs": [
    {
     "name": "stdout",
     "output_type": "stream",
     "text": [
      "you can vote\n"
     ]
    }
   ],
   "source": [
    "# Write a program to print \"You can Vote\" or \"You Cannot Vote\n",
    "\n",
    "age=int(input(\"enter the age:\"))\n",
    "if age>=18:\n",
    "    print(\"you can vote\")\n",
    "else:\n",
    "    print(\"you cannot vote\")\n",
    "\n",
    "\n",
    "\n",
    "\n"
   ]
  },
  {
   "cell_type": "code",
   "execution_count": 7,
   "metadata": {},
   "outputs": [
    {
     "name": "stdout",
     "output_type": "stream",
     "text": [
      "c is grater\n"
     ]
    }
   ],
   "source": [
    "# Write a program to find greatest of three numbers\n",
    "a=int(input(\"enter the number\"))\n",
    "b=int(input(\"enter the number\"))\n",
    "c=int(input(\"enter the number\"))\n",
    "if (a>b) and (a>c):\n",
    "    print(\"a is greater\")\n",
    "elif (b>a) and (b>c):\n",
    "    print(\"b is greater\")\n",
    "elif (c>a) and (c>b):\n",
    "    print(\"c is grater\")\n",
    "\n",
    "\n",
    "\n"
   ]
  },
  {
   "cell_type": "code",
   "execution_count": 12,
   "metadata": {},
   "outputs": [
    {
     "name": "stdout",
     "output_type": "stream",
     "text": [
      "super\n"
     ]
    }
   ],
   "source": [
    "#Write a program to print \"Super\" if the sum of number is \"less\" than 1000 and \"great\" if the sum of number is greater than 1000\n",
    "\n",
    "bhanu=int(input(\"enter the number\"))\n",
    "prasad=int(input(\"enter the number\"))\n",
    "if (bhanu+prasad)<1000:\n",
    "    print(\"super\")\n",
    "else:\n",
    "    print(\"greater\")"
   ]
  },
  {
   "cell_type": "markdown",
   "metadata": {},
   "source": []
  }
 ],
 "metadata": {
  "kernelspec": {
   "display_name": "Python 3",
   "language": "python",
   "name": "python3"
  },
  "language_info": {
   "codemirror_mode": {
    "name": "ipython",
    "version": 3
   },
   "file_extension": ".py",
   "mimetype": "text/x-python",
   "name": "python",
   "nbconvert_exporter": "python",
   "pygments_lexer": "ipython3",
   "version": "3.11.8"
  }
 },
 "nbformat": 4,
 "nbformat_minor": 2
}
