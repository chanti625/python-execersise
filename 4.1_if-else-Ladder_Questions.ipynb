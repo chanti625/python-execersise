{
 "cells": [
  {
   "cell_type": "code",
   "execution_count": 2,
   "metadata": {},
   "outputs": [
    {
     "name": "stdout",
     "output_type": "stream",
     "text": [
      "fail\n"
     ]
    }
   ],
   "source": [
    "#Read Five marks tamil,english,maths,science and social and if all marks are greater than 35 , print pass else print fail\n",
    "\n",
    "tamil=int(input(\"enter the number:\"))\n",
    "english=int(input(\"enter the number:\"))\n",
    "maths=int(input(\"enter the number:\"))\n",
    "scinece=int(input(\"enter the number:\"))\n",
    "social=int(input(\"enter the number:\"))\n",
    "result=tamil+english+maths+scinece+social\n",
    "if result>35:\n",
    "    print(\"pass\")\n",
    "else:\n",
    "    print(\"fail\")"
   ]
  },
  {
   "cell_type": "code",
   "execution_count": null,
   "metadata": {},
   "outputs": [],
   "source": []
  }
 ],
 "metadata": {
  "kernelspec": {
   "display_name": "Python 3",
   "language": "python",
   "name": "python3"
  },
  "language_info": {
   "codemirror_mode": {
    "name": "ipython",
    "version": 3
   },
   "file_extension": ".py",
   "mimetype": "text/x-python",
   "name": "python",
   "nbconvert_exporter": "python",
   "pygments_lexer": "ipython3",
   "version": "3.11.8"
  }
 },
 "nbformat": 4,
 "nbformat_minor": 2
}
